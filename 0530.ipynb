{
  "nbformat": 4,
  "nbformat_minor": 0,
  "metadata": {
    "colab": {
      "name": "0530.ipynb",
      "provenance": [],
      "authorship_tag": "ABX9TyMzD03Wp9XgLdW1MEVh+ABe",
      "include_colab_link": true
    },
    "kernelspec": {
      "name": "python3",
      "display_name": "Python 3"
    },
    "language_info": {
      "name": "python"
    }
  },
  "cells": [
    {
      "cell_type": "markdown",
      "metadata": {
        "id": "view-in-github",
        "colab_type": "text"
      },
      "source": [
        "<a href=\"https://colab.research.google.com/github/tku-cheukwingchan/Introduction-to-Computers/blob/main/0530.ipynb\" target=\"_parent\"><img src=\"https://colab.research.google.com/assets/colab-badge.svg\" alt=\"Open In Colab\"/></a>"
      ]
    },
    {
      "cell_type": "markdown",
      "source": [
        "九九乘法"
      ],
      "metadata": {
        "id": "x-lCpFo9DgEJ"
      }
    },
    {
      "cell_type": "code",
      "execution_count": null,
      "metadata": {
        "colab": {
          "base_uri": "https://localhost:8080/"
        },
        "id": "x_jMdnnFDXZX",
        "outputId": "6366d3f3-d0cb-4e21-e33b-5671964d0b17"
      },
      "outputs": [
        {
          "output_type": "stream",
          "name": "stdout",
          "text": [
            "2*1= 2   2*2= 4   2*3= 6   2*4= 8   2*5=10   2*6=12   2*7=14   2*8=16   2*9=18   \n",
            "3*1= 3   3*2= 6   3*3= 9   3*4=12   3*5=15   3*6=18   3*7=21   3*8=24   3*9=27   \n",
            "4*1= 4   4*2= 8   4*3=12   4*4=16   4*5=20   4*6=24   4*7=28   4*8=32   4*9=36   \n",
            "5*1= 5   5*2=10   5*3=15   5*4=20   5*5=25   5*6=30   5*7=35   5*8=40   5*9=45   \n",
            "6*1= 6   6*2=12   6*3=18   6*4=24   6*5=30   6*6=36   6*7=42   6*8=48   6*9=54   \n",
            "7*1= 7   7*2=14   7*3=21   7*4=28   7*5=35   7*6=42   7*7=49   7*8=56   7*9=63   \n",
            "8*1= 8   8*2=16   8*3=24   8*4=32   8*5=40   8*6=48   8*7=56   8*8=64   8*9=72   \n",
            "9*1= 9   9*2=18   9*3=27   9*4=36   9*5=45   9*6=54   9*7=63   9*8=72   9*9=81   \n"
          ]
        }
      ],
      "source": [
        "for i in range(2,10):\n",
        "  for j in range(1,10):\n",
        "    product = i*j\n",
        "    print(\"%d*%d=%2d   \" % (i, j, product),end=\"\")\n",
        "  print()"
      ]
    },
    {
      "cell_type": "markdown",
      "source": [
        "最小公倍數"
      ],
      "metadata": {
        "id": "2wy5EqHmELWt"
      }
    },
    {
      "cell_type": "code",
      "source": [
        "a = int(input(\"請輸入a的值\"))\n",
        "b = int(input(\"請輸入b的值\"))\n",
        "\n",
        "maxno = a * b\n",
        "for i in range(1, maxno+1):\n",
        "  if(i % a == 0 and i % b == 0):\n",
        "    break\n",
        "print(\"%d和 %d的最小公倍數 = %d\" %(a,b,i))"
      ],
      "metadata": {
        "colab": {
          "base_uri": "https://localhost:8080/"
        },
        "id": "TMRQDOTbEOPi",
        "outputId": "ffd81984-f7ed-46db-e1f1-1b908856865d"
      },
      "execution_count": null,
      "outputs": [
        {
          "output_type": "stream",
          "name": "stdout",
          "text": [
            "請輸入a的值4\n",
            "請輸入b的值6\n",
            "4和 6的最小公倍數 = 12\n"
          ]
        }
      ]
    },
    {
      "cell_type": "markdown",
      "source": [
        "排除數列中 5 的倍數"
      ],
      "metadata": {
        "id": "yfL7Oz7DGf-m"
      }
    },
    {
      "cell_type": "code",
      "source": [
        "n = int(input(\"請輸入正整數：\"))\n",
        "for i in range(1,n+1):\n",
        "  if i % 5 == 0:\n",
        "    continue\n",
        "  print(i,end=\" \")"
      ],
      "metadata": {
        "colab": {
          "base_uri": "https://localhost:8080/"
        },
        "id": "gGeXdmSGGnNE",
        "outputId": "430bbd65-3f10-407d-8ac6-ffa838253730"
      },
      "execution_count": null,
      "outputs": [
        {
          "output_type": "stream",
          "name": "stdout",
          "text": [
            "請輸入正整數：21\n",
            "1 2 3 4 6 7 8 9 11 12 13 14 16 17 18 19 21 "
          ]
        }
      ]
    },
    {
      "cell_type": "markdown",
      "source": [
        "while"
      ],
      "metadata": {
        "id": "fbpqWCo7IMF7"
      }
    },
    {
      "cell_type": "code",
      "source": [
        "total = n = 0\n",
        "while(n <= 10):\n",
        "  total += n \n",
        "  n += 1\n",
        "print(total)"
      ],
      "metadata": {
        "colab": {
          "base_uri": "https://localhost:8080/"
        },
        "id": "_6NpdNCHIIvI",
        "outputId": "3f9edd4b-2ec4-4f3d-c703-7b8cf2dd588e"
      },
      "execution_count": null,
      "outputs": [
        {
          "output_type": "stream",
          "name": "stdout",
          "text": [
            "55\n"
          ]
        }
      ]
    },
    {
      "cell_type": "code",
      "source": [
        "total = i = 1\n",
        "n = int(input(\"請輸入正整數的n的值：\"))\n",
        "while i<=n:\n",
        "  total *= i\n",
        "  i+=1\n",
        "print(\"%d!=%d\" % (n, total))"
      ],
      "metadata": {
        "colab": {
          "base_uri": "https://localhost:8080/"
        },
        "id": "p0x9UV4SK-5_",
        "outputId": "03518668-863c-4130-94c0-9a79cfc05843"
      },
      "execution_count": null,
      "outputs": [
        {
          "output_type": "stream",
          "name": "stdout",
          "text": [
            "請輸入正整數的n的值：100\n",
            "100!=93326215443944152681699238856266700490715968264381621468592963895217599993229915608941463976156518286253697920827223758251185210916864000000000000000000000000\n"
          ]
        }
      ]
    },
    {
      "cell_type": "code",
      "source": [
        "i = 50\n",
        "oddsum = 0\n",
        "evensum = 0\n",
        "while(i!=0):\n",
        "  if(i%2==0):\n",
        "    evensum+=i\n",
        "  else:\n",
        "    oddsum+=i\n",
        "  i-=1\n",
        "print(\"0-50的偶數和結果是\",evensum)\n",
        "print(\"0-50的奇數和結果是\",oddsum)"
      ],
      "metadata": {
        "id": "iueDh44mMS0v",
        "colab": {
          "base_uri": "https://localhost:8080/"
        },
        "outputId": "c5a8a59b-0ba2-4563-f642-08e3ced80829"
      },
      "execution_count": 4,
      "outputs": [
        {
          "output_type": "stream",
          "name": "stdout",
          "text": [
            "0-50的偶數和結果是 650\n",
            "0-50的奇數和結果是 625\n"
          ]
        }
      ]
    },
    {
      "cell_type": "code",
      "source": [
        "i = int(input(\"請輪入正整數：\"))\n",
        "j = i\n",
        "for i in range(i):\n",
        "  print('\\n',end=\"\")\n",
        "  for j in range(j):\n",
        "    print('*',end=\"\")"
      ],
      "metadata": {
        "colab": {
          "base_uri": "https://localhost:8080/"
        },
        "id": "kB-HkPjPnWtg",
        "outputId": "242fda40-ad0b-4fd3-daa4-d7a4d2366e61"
      },
      "execution_count": 1,
      "outputs": [
        {
          "output_type": "stream",
          "name": "stdout",
          "text": [
            "請輪入正整數：7\n",
            "\n",
            "*******\n",
            "******\n",
            "*****\n",
            "****\n",
            "***\n",
            "**\n",
            "*"
          ]
        }
      ]
    },
    {
      "cell_type": "code",
      "source": [
        "i = 100\n",
        "sum = 0\n",
        "for i in range(i):\n",
        "  if(i%3==0 or i%7==0):\n",
        "    sum+=i\n",
        "print(\"數值 1-100 中，所有是 3 或 7 倍數的數之總和 =\",sum)"
      ],
      "metadata": {
        "colab": {
          "base_uri": "https://localhost:8080/"
        },
        "id": "BssxK0x7oc7Q",
        "outputId": "bf09a80d-185d-45bd-f648-421b9625a647"
      },
      "execution_count": 12,
      "outputs": [
        {
          "output_type": "stream",
          "name": "stdout",
          "text": [
            "數值 1-100 中，所有是 3 或 7 倍數的數之總和 = 2208\n"
          ]
        }
      ]
    },
    {
      "cell_type": "code",
      "source": [
        "i = int(input(\"請輸入正整數：\"))\n",
        "prime = 0\n",
        "for i1 in range(i):\n",
        "  i1+=1\n",
        "  if(i%i1==0):\n",
        "    print(i1,end=\" \")\n",
        "    prime+=1\n",
        "if(prime==2):\n",
        "  print(\"\\n\",i,\"是質數\")\n",
        "else:\n",
        "  print(\"\\n\",i,\"不是質數\")"
      ],
      "metadata": {
        "colab": {
          "base_uri": "https://localhost:8080/"
        },
        "id": "pw2VXFSGpPcv",
        "outputId": "f4729d91-8efa-42bd-8041-7b1bba20e071"
      },
      "execution_count": 16,
      "outputs": [
        {
          "output_type": "stream",
          "name": "stdout",
          "text": [
            "請輸入正整數：11\n",
            "1 11 \n",
            " 11 是質數\n"
          ]
        }
      ]
    }
  ]
}