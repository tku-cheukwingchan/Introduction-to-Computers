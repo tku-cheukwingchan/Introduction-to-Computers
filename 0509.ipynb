{
  "nbformat": 4,
  "nbformat_minor": 0,
  "metadata": {
    "colab": {
      "name": "0509.ipynb",
      "provenance": [],
      "authorship_tag": "ABX9TyOmO4l3St0BiD8lrck0a6QM",
      "include_colab_link": true
    },
    "kernelspec": {
      "name": "python3",
      "display_name": "Python 3"
    },
    "language_info": {
      "name": "python"
    }
  },
  "cells": [
    {
      "cell_type": "markdown",
      "metadata": {
        "id": "view-in-github",
        "colab_type": "text"
      },
      "source": [
        "<a href=\"https://colab.research.google.com/github/tku-cheukwingchan/Introduction-to-Computers/blob/main/0509.ipynb\" target=\"_parent\"><img src=\"https://colab.research.google.com/assets/colab-badge.svg\" alt=\"Open In Colab\"/></a>"
      ]
    },
    {
      "cell_type": "code",
      "execution_count": 1,
      "metadata": {
        "colab": {
          "base_uri": "https://localhost:8080/"
        },
        "id": "dEB6Cdch8YkV",
        "outputId": "118e3537-660e-43d3-b725-355bb52d7da8"
      },
      "outputs": [
        {
          "output_type": "stream",
          "name": "stdout",
          "text": [
            "請輸入你的體溫37\n",
            "體溫略高！\n"
          ]
        }
      ],
      "source": [
        "temp = float(input(\"請輸入你的體溫\"))\n",
        "if temp >= 37.5:\n",
        "  print(\"體溫過高！\")\n",
        "elif temp >= 37 and temp < 37.4:\n",
        "  print(\"體溫略高！\")\n",
        "elif temp >= 34 and temp <= 36.9:\n",
        "  print(\"體溫正常！\")\n",
        "else:\n",
        "  print(\"體溫異常，請重新量測！\")"
      ]
    },
    {
      "cell_type": "code",
      "source": [
        "score = input(\"請輸入成績\")\n",
        "if (int(score) >= 90):\n",
        "  print(\"A\")\n",
        "elif (int(score) >= 80):\n",
        "  print(\"B\")\n",
        "elif (int(score) >= 70):\n",
        "  print(\"c\")\n",
        "elif (int(score) >= 60):\n",
        "  print(\"D\")\n",
        "else:\n",
        "  print(\"E\")"
      ],
      "metadata": {
        "colab": {
          "base_uri": "https://localhost:8080/"
        },
        "id": "lAvhzsMGCcyU",
        "outputId": "4b9fe225-2d90-4d0b-cb24-f3728abd65df"
      },
      "execution_count": 3,
      "outputs": [
        {
          "output_type": "stream",
          "name": "stdout",
          "text": [
            "請輸入成績56\n",
            "E\n"
          ]
        }
      ]
    },
    {
      "cell_type": "code",
      "source": [
        "money = int(input(\"請輸入購買金額：\"))\n",
        "if (money >= 10000):\n",
        "  if(money >= 100000):\n",
        "    print(\"八折\",money * 0.8, end = \" 元\\n\")\n",
        "  elif(money >= 50000):\n",
        "    print(\"八五折\",money * 0.85, end = \" 元\\n\")\n",
        "  elif(money >= 30000):\n",
        "    print(\"九折\",money *0.9, end = \" 元\\n\")\n",
        "  else:\n",
        "    print(\"九五折\",money *0.95, end = \" 元\\n\")\n",
        "else:\n",
        "  print(\"沒打折\",money, end = \" 元\\n\")"
      ],
      "metadata": {
        "colab": {
          "base_uri": "https://localhost:8080/"
        },
        "id": "4P85aJvbDgA-",
        "outputId": "ef15039d-e401-4e75-ca8d-52f171411b24"
      },
      "execution_count": 4,
      "outputs": [
        {
          "output_type": "stream",
          "name": "stdout",
          "text": [
            "請輸入購買金額：20000\n",
            "九五折 19000.0 元\n"
          ]
        }
      ]
    },
    {
      "cell_type": "code",
      "source": [
        "month = int(input(\"請輸入月份：\"))\n",
        "if(month >= 1 and month <= 12):\n",
        "  if(month == 3 or month == 4 or month == 5):\n",
        "    print(month,\"月是春天！\")\n",
        "  elif(month == 6 or month == 7 or month == 8):\n",
        "    print(month,\"月是夏天！\")\n",
        "  elif(month == 9 or month == 10 or month == 11):\n",
        "    print(month,\"月是秋天！\")\n",
        "  elif(month == 12 or month == 1 or month == 2):\n",
        "    print(month,\"月是冬天！\")\n",
        "else:\n",
        "  print(\"月份不在範圍內！\")"
      ],
      "metadata": {
        "colab": {
          "base_uri": "https://localhost:8080/"
        },
        "id": "3lyKK5NGF5kV",
        "outputId": "edd3bd4c-9802-45e8-f2ab-3367bc7e508f"
      },
      "execution_count": 41,
      "outputs": [
        {
          "output_type": "stream",
          "name": "stdout",
          "text": [
            "請輸入月份：17\n",
            "月份不在範圍內！\n"
          ]
        }
      ]
    },
    {
      "cell_type": "code",
      "source": [
        "income = int(input(\"請輸入今年收入淨額：\"))\n",
        "if (income >= 300000):\n",
        "  if(income >= 2000000):\n",
        "    print(\"付稅金額：\",income * 0.3, end = \"元\\n\" )\n",
        "  elif(income >= 1000000):\n",
        "    print(\"付稅金額：\",income * 0.21, end = \"元\\n\" )\n",
        "  elif(income >= 600000):\n",
        "    print(\"付稅金額：\",income * 0.13, end = \"元\\n\" )\n",
        "  else:\n",
        "    print(\"付稅金額：\",income * 0.06, end = \"元\\n\" )\n",
        "else:\n",
        "  print(\"付稅金額：0 元\")"
      ],
      "metadata": {
        "colab": {
          "base_uri": "https://localhost:8080/"
        },
        "id": "ntqpqoXTJWVp",
        "outputId": "00c9a980-6e38-47c9-aad7-7a7c850bca79"
      },
      "execution_count": 29,
      "outputs": [
        {
          "output_type": "stream",
          "name": "stdout",
          "text": [
            "請輸入今年收入淨額：3788888\n",
            "付稅金額： 1136666.4元\n"
          ]
        }
      ]
    }
  ]
}